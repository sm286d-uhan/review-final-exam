{
 "cells": [
  {
   "cell_type": "markdown",
   "metadata": {},
   "source": [
    "<h4 class='prehead'>SM286D &middot; Introduction to Applied Mathematics with Python &middot; Spring 2020 &middot; Uhan</h4>\n",
    "\n",
    "<h1 class='lesson_title'>Final Exam &mdash; Review Problems &mdash; Part II</h1>"
   ]
  },
  {
   "cell_type": "markdown",
   "metadata": {},
   "source": [
    "__Instructions.__\n",
    "There are two parts to these review problems.\n",
    "You should attempt the problems in Part I without a computer.\n",
    "Part II is in this Jupyter Notebook.\n",
    "Feel free to use your class materials and the course website to attempt the problems in this part."
   ]
  },
  {
   "cell_type": "markdown",
   "metadata": {},
   "source": [
    "## Problem 9\n",
    "\n",
    "Stirling numbers of the first kind, written as $s(n,k)$, can be defined recursively by setting $s(0,0)=1$ and $s(n,0)=0$ for all $n>0$ and\n",
    "\n",
    "\\begin{equation*} \n",
    "s(n,k)=(n-1)s(n-1,k)+s(n-1,k-1) .\n",
    "\\end{equation*}\n",
    "\n",
    "Write a function that will compute $s(n,k)$ using this recursion and compute $s(10,3)$ (You should get 2562156)."
   ]
  },
  {
   "cell_type": "code",
   "execution_count": null,
   "metadata": {},
   "outputs": [],
   "source": []
  },
  {
   "cell_type": "markdown",
   "metadata": {},
   "source": [
    "## Problem 10\n",
    "\n",
    "Write code to make the following matrix:\n",
    "\n",
    "\\begin{equation*}\n",
    "A=\\left[ \\begin{array}{cccccc}\n",
    "0 & 1 & 2 & 3 & \\cdots & 9\\\\\n",
    "1 & 2 & 3 & 4 &\\cdots &0\\\\\n",
    "2 & 3 & 4  & 5&\\cdots &1\\\\\n",
    "&\\vdots &&&\\ddots &2\\\\\n",
    "&\\vdots &&&\\ddots &\\vdots\\\\\n",
    "9 &0 & 1 &2& \\cdots &8\n",
    "\\end{array}\\right]\n",
    "\\end{equation*}"
   ]
  },
  {
   "cell_type": "code",
   "execution_count": null,
   "metadata": {},
   "outputs": [],
   "source": []
  },
  {
   "cell_type": "markdown",
   "metadata": {},
   "source": [
    "## Problem 11\n",
    "\n",
    "Write scripts to graph $\\sin x$ for $-\\pi \\leq x \\leq \\pi$ and \n",
    "the first two Taylor polynomial approximations \n",
    "$T_3 = x - \\displaystyle\\frac{x^3}{3!}$ and \n",
    "$T_5 = x - \\displaystyle\\frac{x^3}{3!}+\\frac{x^5}{5!}$.\n",
    "\n",
    "Use different colors for each of the three curves and \n",
    "label the axes and give a title."
   ]
  },
  {
   "cell_type": "code",
   "execution_count": null,
   "metadata": {},
   "outputs": [],
   "source": []
  },
  {
   "cell_type": "markdown",
   "metadata": {},
   "source": [
    "## Problem 12\n",
    "\n",
    "Write code to generate the sequence of numbers `L = [1, 12, 123, 1234, ... , 123456789]`. Then write code to remove all the elements of this list that are divisible by 3."
   ]
  },
  {
   "cell_type": "code",
   "execution_count": null,
   "metadata": {},
   "outputs": [],
   "source": []
  },
  {
   "cell_type": "markdown",
   "metadata": {},
   "source": [
    "## Problem 13\n",
    "\n",
    "In this problem you are to use simulation to estimate the probability that two random points inside the unit circle (radius 1) are distance 1 from each other. To do this problem follow these steps:\n",
    "\n",
    " - Use the `random` package with the command `random.uniform(a, b)` to generate a list of 300 pseudo-randomly generated points inside the unit circle.\n",
    "\n",
    " - Generate a list of the distances between all pairs of elements from the list you made based on the first bullet-point.\n",
    "\n",
    " - Now compute the proportion of the paired distances that are smaller than 1. This gives our desired estimate."
   ]
  },
  {
   "cell_type": "code",
   "execution_count": null,
   "metadata": {},
   "outputs": [],
   "source": []
  },
  {
   "cell_type": "markdown",
   "metadata": {},
   "source": [
    "## Problem 14\n",
    "\n",
    "The website `fivethirtyeight.com` is a news website that makes careful use of statistics. It studies topics ranging from political polling data to sports data. They post a large amount of their data on the site `data.fivethirtyeight.com`. This problem comes from an article they wrote on NFL game predictions. The goal of this problem is to make a list of the average winning margin in games for each year. Accomplish this via the following steps.\n",
    "\n",
    " - Import the `xlwings` package, put the file `nfl_538.xlsx` into the same folder as this Jupyter notebook, load it into Python, and load the main sheet into Python.\n",
    "\n",
    " - Make a list consisting of all the values column B, which is all the season years. Then record the positions in this list where the season changes. This will be used below to gather the data for each year separately.\n",
    "\n",
    " - Make a list of the winning margin in each game, that is, the absolute value of the difference of the scores for each team. The scores are in columns M and N.\n",
    "\n",
    " - Now make a list of the average winning margins for each year.\n",
    "\n",
    " - Make a dictionary where the keys are years and the values are the average winning margin for that year. \n",
    "\n",
    " - Use your dictionary from the previous bullet point to find four numbers: the average winning margin for all years in the 1970s, 1980s, 1990s, and 2000s."
   ]
  },
  {
   "cell_type": "code",
   "execution_count": null,
   "metadata": {},
   "outputs": [],
   "source": []
  }
 ],
 "metadata": {
  "kernelspec": {
   "display_name": "Python 3",
   "language": "python",
   "name": "python3"
  },
  "language_info": {
   "codemirror_mode": {
    "name": "ipython",
    "version": 3
   },
   "file_extension": ".py",
   "mimetype": "text/x-python",
   "name": "python",
   "nbconvert_exporter": "python",
   "pygments_lexer": "ipython3",
   "version": "3.7.6"
  }
 },
 "nbformat": 4,
 "nbformat_minor": 2
}
